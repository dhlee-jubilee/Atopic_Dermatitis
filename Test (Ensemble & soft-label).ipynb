{
 "cells": [
  {
   "cell_type": "markdown",
   "metadata": {},
   "source": [
    "# Atopy Grading - Test (Ensemble & soft-label)"
   ]
  },
  {
   "cell_type": "code",
   "execution_count": 2,
   "metadata": {},
   "outputs": [
    {
     "name": "stderr",
     "output_type": "stream",
     "text": [
      "Using TensorFlow backend.\n"
     ]
    },
    {
     "name": "stdout",
     "output_type": "stream",
     "text": [
      "1.15.0\n",
      "2.3.1\n"
     ]
    },
    {
     "data": {
      "text/plain": [
       "['/job:localhost/replica:0/task:0/device:GPU:0']"
      ]
     },
     "execution_count": 2,
     "metadata": {},
     "output_type": "execute_result"
    }
   ],
   "source": [
    "%matplotlib inline\n",
    "import matplotlib.pyplot as plt\n",
    "import numpy as np\n",
    "import os\n",
    "import pandas as pd\n",
    "import time\n",
    "import h5py\n",
    "import math\n",
    "from random import randint, choice\n",
    "import glob\n",
    "import cv2\n",
    "\n",
    "from scipy.ndimage import rotate\n",
    "from sklearn.metrics import roc_auc_score\n",
    "from sklearn.model_selection import train_test_split\n",
    "from sklearn.utils import class_weight\n",
    "\n",
    "import keras\n",
    "from keras.models import Model\n",
    "from keras.layers import Dense, Activation, Input, Concatenate, Dropout, BatchNormalization, ZeroPadding2D\n",
    "\n",
    "\n",
    "import tensorflow as tf\n",
    "from keras import backend as K\n",
    "\n",
    "print(tf.__version__)\n",
    "print(keras.__version__)\n",
    "\n",
    "K.tensorflow_backend._get_available_gpus()"
   ]
  },
  {
   "cell_type": "markdown",
   "metadata": {},
   "source": [
    "## Hyperparameter"
   ]
  },
  {
   "cell_type": "code",
   "execution_count": null,
   "metadata": {},
   "outputs": [],
   "source": [
    "##################################################\n",
    "Evaluator_Test = 'soft-label' ## \n",
    "atopy_type = '7.IGA' ##\n",
    "# 1.Erythema\n",
    "# 2.Edema_Papule \n",
    "# 3.Excoriation \n",
    "# 4.Lichenification\n",
    "# 5.Oozing_Crusting\n",
    "# 6.Dryness\n",
    "# 7.IGA\n",
    "\n",
    "normalize = 'on' ##\n",
    "augment = 'on' ##\n",
    "\n",
    "input_shape = [400,400,3] \n",
    "\n",
    "option = '_Aug_'\n",
    "model_names = ['InceptionResNetV2']\n",
    "##################################################\n",
    "\n",
    "test_path = '../Dataset/Image_re/Test/' + Evaluator_Test + '/' + atopy_type + '/'\n",
    "ext_path = '../Dataset/Image_re/ExtraVal/' + Evaluator_Test + '/' + atopy_type + '/'\n",
    "\n",
    "\n",
    "save_name1 = model_names[0] + '_' + 'A' + '_' + atopy_type + option +'.h5'\n",
    "save_name2 = model_names[0] + '_' + 'B' + '_' + atopy_type + option +'.h5'\n",
    "save_name3 = model_names[0] + '_' + 'C' + '_' + atopy_type + option +'.h5'\n",
    "save_name4 = model_names[0] + '_' + 'D' + '_' + atopy_type + option +'.h5'\n",
    "save_name5 = model_names[0] + '_' + 'E' + '_' + atopy_type + option +'.h5'\n",
    "    \n",
    "\n",
    "model_path1 = '../Result/model/' + atopy_type + '/' + save_name1 \n",
    "model_path2 = '../Result/model/' + atopy_type + '/' + save_name2\n",
    "model_path3 = '../Result/model/' + atopy_type + '/' + save_name3\n",
    "model_path4 = '../Result/model/' + atopy_type + '/' + save_name4\n",
    "model_path5 = '../Result/model/' + atopy_type + '/' + save_name5 "
   ]
  },
  {
   "cell_type": "markdown",
   "metadata": {},
   "source": [
    "## Load Dataset"
   ]
  },
  {
   "cell_type": "markdown",
   "metadata": {},
   "source": [
    "### Test"
   ]
  },
  {
   "cell_type": "code",
   "execution_count": 3,
   "metadata": {},
   "outputs": [
    {
     "name": "stdout",
     "output_type": "stream",
     "text": [
      "\n",
      "\n",
      "(299, 400, 400, 3)\n",
      "(676, 400, 400, 3)\n",
      "(477, 400, 400, 3)\n",
      "(114, 400, 400, 3)\n",
      "\n",
      "\n",
      "299\n",
      "676\n",
      "477\n",
      "114\n",
      "** Process Done ***\n"
     ]
    }
   ],
   "source": [
    "\"\"\" Test \"\"\"\n",
    "grade0_te_path = glob.glob(test_path + 'Grade0/*.jpg')\n",
    "grade1_te_path = glob.glob(test_path + 'Grade1/*.jpg')\n",
    "grade2_te_path = glob.glob(test_path + 'Grade2/*.jpg')\n",
    "grade3_te_path = glob.glob(test_path + 'Grade3/*.jpg')\n",
    "\n",
    "grade0_te_list, grade1_te_list, grade2_te_list, grade3_te_list = [], [], [], []\n",
    "label0_te_list, label1_te_list, label2_te_list, label3_te_list = [], [], [], []\n",
    "\n",
    "for i, g0 in enumerate(grade0_te_path):\n",
    "    img0 = cv2.imread(g0)\n",
    "    ## resize\n",
    "    image0 = cv2.resize(img0, dsize=(input_shape[0], input_shape[1]), interpolation = cv2.INTER_CUBIC)\n",
    "    if normalize == 'on':\n",
    "        image0 = image0 / 255\n",
    "    grade0_te_list.append(image0)\n",
    "    if Evaluator_Test != 'Soft':\n",
    "        label0_te_list.append(0)\n",
    "    \n",
    "for i, g1 in enumerate(grade1_te_path):\n",
    "    img1 = cv2.imread(g1)\n",
    "    ## resize\n",
    "    image1 = cv2.resize(img1, dsize=(input_shape[0], input_shape[1]), interpolation = cv2.INTER_CUBIC)\n",
    "    if normalize == 'on':\n",
    "        image1 = image1 / 255\n",
    "    grade1_te_list.append(image1)   \n",
    "    if Evaluator_Test != 'Soft':\n",
    "        label1_te_list.append(1)\n",
    "\n",
    "for i, g2 in enumerate(grade2_te_path):\n",
    "    img2 = cv2.imread(g2)\n",
    "    ## resize\n",
    "    image2 = cv2.resize(img2, dsize=(input_shape[0], input_shape[1]), interpolation = cv2.INTER_CUBIC)\n",
    "    if normalize == 'on':\n",
    "        image2 = image2 / 255\n",
    "    grade2_te_list.append(image2)  \n",
    "    if Evaluator_Test != 'Soft':  \n",
    "        label2_te_list.append(2)\n",
    "        \n",
    "for i, g3 in enumerate(grade3_te_path):\n",
    "    img3 = cv2.imread(g3)\n",
    "    ## resize\n",
    "    image3 = cv2.resize(img3, dsize=(input_shape[0], input_shape[1]), interpolation = cv2.INTER_CUBIC)\n",
    "    if normalize == 'on':\n",
    "        image3 = image3 / 255\n",
    "    grade3_te_list.append(image3)  \n",
    "    if Evaluator_Test != 'Soft':  \n",
    "        label3_te_list.append(3)\n",
    "\n",
    "print('\\n')\n",
    "print(np.shape(grade0_te_list))\n",
    "print(np.shape(grade1_te_list))\n",
    "print(np.shape(grade2_te_list))\n",
    "print(np.shape(grade3_te_list))\n",
    "\n",
    "print('\\n')\n",
    "print(len(label0_te_list))\n",
    "print(len(label1_te_list))\n",
    "print(len(label2_te_list))\n",
    "print(len(label3_te_list))\n",
    "print(\"** Process Done ***\")"
   ]
  },
  {
   "cell_type": "markdown",
   "metadata": {},
   "source": [
    "### External Validation"
   ]
  },
  {
   "cell_type": "code",
   "execution_count": 4,
   "metadata": {},
   "outputs": [
    {
     "name": "stdout",
     "output_type": "stream",
     "text": [
      "\n",
      "\n",
      "(157, 400, 400, 3)\n",
      "(440, 400, 400, 3)\n",
      "(318, 400, 400, 3)\n",
      "(88, 400, 400, 3)\n",
      "\n",
      "\n",
      "157\n",
      "440\n",
      "318\n",
      "88\n",
      "** Process Done ***\n"
     ]
    }
   ],
   "source": [
    "\"\"\" External Validation \"\"\"\n",
    "grade0_ext_path = glob.glob(ext_path + 'Grade0/*.jpg')\n",
    "grade1_ext_path = glob.glob(ext_path + 'Grade1/*.jpg')\n",
    "grade2_ext_path = glob.glob(ext_path + 'Grade2/*.jpg')\n",
    "grade3_ext_path = glob.glob(ext_path + 'Grade3/*.jpg')\n",
    "\n",
    "grade0_ext_list, grade1_ext_list, grade2_ext_list, grade3_ext_list = [], [], [], []\n",
    "label0_ext_list, label1_ext_list, label2_ext_list, label3_ext_list = [], [], [], []\n",
    "\n",
    "for i, g0 in enumerate(grade0_ext_path):\n",
    "    img0 = cv2.imread(g0)\n",
    "    ## resize\n",
    "    image0 = cv2.resize(img0, dsize=(input_shape[0], input_shape[1]), interpolation = cv2.INTER_CUBIC)\n",
    "    if normalize == 'on':\n",
    "        image0 = image0 / 255\n",
    "    grade0_ext_list.append(image0)\n",
    "    if Evaluator_Test != 'Soft':\n",
    "        label0_ext_list.append(0)\n",
    "    \n",
    "for i, g1 in enumerate(grade1_ext_path):\n",
    "    img1 = cv2.imread(g1)\n",
    "    ## resize\n",
    "    image1 = cv2.resize(img1, dsize=(input_shape[0], input_shape[1]), interpolation = cv2.INTER_CUBIC)\n",
    "    if normalize == 'on':\n",
    "        image1 = image1 / 255\n",
    "    grade1_ext_list.append(image1)   \n",
    "    if Evaluator_Test != 'Soft':\n",
    "        label1_ext_list.append(1)\n",
    "\n",
    "for i, g2 in enumerate(grade2_ext_path):\n",
    "    img2 = cv2.imread(g2)\n",
    "    ## resize\n",
    "    image2 = cv2.resize(img2, dsize=(input_shape[0], input_shape[1]), interpolation = cv2.INTER_CUBIC)\n",
    "    if normalize == 'on':\n",
    "        image2 = image2 / 255\n",
    "    grade2_ext_list.append(image2)  \n",
    "    if Evaluator_Test != 'Soft':  \n",
    "        label2_ext_list.append(2)\n",
    "        \n",
    "for i, g3 in enumerate(grade3_ext_path):\n",
    "    img3 = cv2.imread(g3)\n",
    "    ## resize\n",
    "    image3 = cv2.resize(img3, dsize=(input_shape[0], input_shape[1]), interpolation = cv2.INTER_CUBIC)\n",
    "    if normalize == 'on':\n",
    "        image3 = image3 / 255\n",
    "    grade3_ext_list.append(image3)  \n",
    "    if Evaluator_Test != 'Soft':  \n",
    "        label3_ext_list.append(3)\n",
    "        \n",
    "        \n",
    "print('\\n')\n",
    "print(np.shape(grade0_ext_list))\n",
    "print(np.shape(grade1_ext_list))\n",
    "print(np.shape(grade2_ext_list))\n",
    "print(np.shape(grade3_ext_list))\n",
    "\n",
    "print('\\n')\n",
    "print(len(label0_ext_list))\n",
    "print(len(label1_ext_list))\n",
    "print(len(label2_ext_list))\n",
    "print(len(label3_ext_list))\n",
    "print(\"** Process Done ***\")"
   ]
  },
  {
   "cell_type": "markdown",
   "metadata": {},
   "source": [
    "## Concatenation for Dataset Preparation"
   ]
  },
  {
   "cell_type": "code",
   "execution_count": 5,
   "metadata": {},
   "outputs": [
    {
     "name": "stdout",
     "output_type": "stream",
     "text": [
      "(1566, 400, 400, 3)\n",
      "(1566, 4)\n"
     ]
    }
   ],
   "source": [
    "\"\"\" Test \"\"\"\n",
    "X_test = np.concatenate((grade0_te_list, grade1_te_list, grade2_te_list, grade3_te_list), axis = 0)\n",
    "y_test_ = np.concatenate((label0_te_list, label1_te_list, label2_te_list, label3_te_list), axis = 0)\n",
    "# X_test = np.concatenate((grade0_te_list, grade1_te_list, grade3_te_list), axis = 0)\n",
    "# y_test_ = np.concatenate((label0_te_list, label1_te_list, label3_te_list), axis = 0)\n",
    "\n",
    "del grade0_te_list, grade1_te_list, grade2_te_list, grade3_te_list\n",
    "del label0_te_list, label1_te_list, label2_te_list, label3_te_list\n",
    "\n",
    "\n",
    "\"\"\" One-hot encodding \"\"\"\n",
    "y_test = keras.utils.to_categorical(y_test_,4) \n",
    "\n",
    "\n",
    "print(np.shape(X_test))\n",
    "print(np.shape(y_test))"
   ]
  },
  {
   "cell_type": "code",
   "execution_count": 6,
   "metadata": {},
   "outputs": [
    {
     "name": "stdout",
     "output_type": "stream",
     "text": [
      "(1003, 400, 400, 3)\n",
      "(1003, 4)\n"
     ]
    }
   ],
   "source": [
    "\"\"\" External Validation \"\"\"\n",
    "X_ext = np.concatenate((grade0_ext_list, grade1_ext_list, grade2_ext_list, grade3_ext_list), axis = 0)\n",
    "y_ext_ = np.concatenate((label0_ext_list, label1_ext_list, label2_ext_list, label3_ext_list), axis = 0)\n",
    "\n",
    "del grade0_ext_list, grade1_ext_list, grade2_ext_list, grade3_ext_list\n",
    "del label0_ext_list, label1_ext_list, label2_ext_list, label3_ext_list\n",
    "\n",
    "\n",
    "\"\"\" One-hot encodding \"\"\"\n",
    "y_ext = keras.utils.to_categorical(y_ext_,4) \n",
    "\n",
    "\n",
    "print(np.shape(X_ext))\n",
    "print(np.shape(y_ext))"
   ]
  },
  {
   "cell_type": "markdown",
   "metadata": {},
   "source": [
    "## Model Prediction"
   ]
  },
  {
   "cell_type": "code",
   "execution_count": 7,
   "metadata": {},
   "outputs": [
    {
     "name": "stdout",
     "output_type": "stream",
     "text": [
      "WARNING:tensorflow:From /usr/local/lib/python3.6/dist-packages/tensorflow_core/python/ops/resource_variable_ops.py:1630: calling BaseResourceVariable.__init__ (from tensorflow.python.ops.resource_variable_ops) with constraint is deprecated and will be removed in a future version.\n",
      "Instructions for updating:\n",
      "If using Keras pass *_constraint arguments to layers.\n",
      "WARNING:tensorflow:From /usr/local/lib/python3.6/dist-packages/keras/backend/tensorflow_backend.py:4070: The name tf.nn.max_pool is deprecated. Please use tf.nn.max_pool2d instead.\n",
      "\n",
      "WARNING:tensorflow:From /usr/local/lib/python3.6/dist-packages/keras/backend/tensorflow_backend.py:4074: The name tf.nn.avg_pool is deprecated. Please use tf.nn.avg_pool2d instead.\n",
      "\n",
      "WARNING:tensorflow:From /usr/local/lib/python3.6/dist-packages/keras/backend/tensorflow_backend.py:422: The name tf.global_variables is deprecated. Please use tf.compat.v1.global_variables instead.\n",
      "\n",
      "*** Load Trained Model Done ***\n"
     ]
    }
   ],
   "source": [
    "import keras.backend.tensorflow_backend as K\n",
    "\n",
    "\"\"\" Load Trained Model \"\"\"\n",
    "trained_model1 = keras.models.load_model(model_path1) \n",
    "trained_model2 = keras.models.load_model(model_path2) \n",
    "trained_model3 = keras.models.load_model(model_path3) \n",
    "trained_model4 = keras.models.load_model(model_path4) \n",
    "trained_model5 = keras.models.load_model(model_path5) \n",
    "\n",
    "print(\"*** Load Trained Model Done ***\")"
   ]
  },
  {
   "cell_type": "code",
   "execution_count": 8,
   "metadata": {},
   "outputs": [
    {
     "name": "stdout",
     "output_type": "stream",
     "text": [
      "\n",
      "*** Prediction Done ***\n"
     ]
    }
   ],
   "source": [
    "\"\"\" Test \"\"\"\n",
    "pred_test_A = trained_model1.predict(X_test, batch_size=1, verbose=0)\n",
    "pred_test_B = trained_model2.predict(X_test, batch_size=1, verbose=0)\n",
    "pred_test_C = trained_model3.predict(X_test, batch_size=1, verbose=0)\n",
    "pred_test_D = trained_model4.predict(X_test, batch_size=1, verbose=0)\n",
    "pred_test_E = trained_model5.predict(X_test, batch_size=1, verbose=0)\n",
    "\n",
    "\n",
    "\"\"\" Ext \"\"\"\n",
    "pred_ext_A = trained_model1.predict(X_ext, batch_size=1, verbose=0)\n",
    "pred_ext_B = trained_model2.predict(X_ext, batch_size=1, verbose=0) \n",
    "pred_ext_C = trained_model3.predict(X_ext, batch_size=1, verbose=0)\n",
    "pred_ext_D = trained_model4.predict(X_ext, batch_size=1, verbose=0)\n",
    "pred_ext_E = trained_model5.predict(X_ext, batch_size=1, verbose=0) \n",
    "\n",
    "print(\"\\n*** Prediction Done ***\")"
   ]
  },
  {
   "cell_type": "markdown",
   "metadata": {},
   "source": [
    "## Soft-label"
   ]
  },
  {
   "cell_type": "code",
   "execution_count": 9,
   "metadata": {},
   "outputs": [],
   "source": [
    "def soft_label(listA, listB, listC, listD, listE):\n",
    "    soft0 = (listA[0] + listB[0] + listC[0] + listD[0] + listE[0])/5\n",
    "    soft1 = (listA[1] + listB[1] + listC[1] + listD[1] + listE[1])/5\n",
    "    soft2 = (listA[2] + listB[2] + listC[2] + listD[2] + listE[2])/5\n",
    "    soft3 = (listA[3] + listB[3] + listC[3] + listD[3] + listE[3])/5\n",
    "        \n",
    "    return soft0, soft1, soft2, soft3\n",
    "\n",
    "\"\"\" Test \"\"\"\n",
    "soft_pred_test_list, soft_prob_test_list = [], []\n",
    "for i in range(len(pred_test_A)):\n",
    "    test_A = pred_test_A[i]\n",
    "    test_B = pred_test_B[i]\n",
    "    test_C = pred_test_C[i]\n",
    "    test_D = pred_test_D[i]\n",
    "    test_E = pred_test_E[i]\n",
    "\n",
    "    soft_test0, soft_test1, soft_test2, soft_test3 = soft_label(test_A, test_B, test_C, test_D, test_E)\n",
    "    soft_test_list = [soft_test0, soft_test1, soft_test2, soft_test3]\n",
    "    soft_test_pred = np.argmax(soft_test_list)\n",
    "    \n",
    "    soft_pred_test_list.append(soft_test_pred)\n",
    "    soft_prob_test_list.append(soft_test_list)\n",
    "    \n",
    "soft_prob_test_array = np.array(soft_prob_test_list)\n",
    "\n",
    "\n",
    "\"\"\" Ext \"\"\"\n",
    "soft_pred_ext_list, soft_prob_ext_list = [], []\n",
    "for i in range(len(pred_ext_A)):\n",
    "    ext_A = pred_ext_A[i]\n",
    "    ext_B = pred_ext_B[i]\n",
    "    ext_C = pred_ext_C[i]\n",
    "    ext_D = pred_ext_D[i]\n",
    "    ext_E = pred_ext_E[i]\n",
    "\n",
    "    soft_ext0, soft_ext1, soft_ext2, soft_ext3 = soft_label(ext_A, ext_B, ext_C, ext_D, ext_E)\n",
    "    soft_ext_list = [soft_ext0, soft_ext1, soft_ext2, soft_ext3]\n",
    "    soft_ext_pred = np.argmax(soft_ext_list)\n",
    "    \n",
    "    soft_pred_ext_list.append(soft_ext_pred)\n",
    "    soft_prob_ext_list.append(soft_ext_list)\n",
    "    \n",
    "soft_prob_ext_array = np.array(soft_prob_ext_list)"
   ]
  },
  {
   "cell_type": "markdown",
   "metadata": {},
   "source": [
    "## Evaluation"
   ]
  },
  {
   "cell_type": "code",
   "execution_count": 10,
   "metadata": {},
   "outputs": [],
   "source": [
    "# https://link.medium.com/dlmxbyUxFW\n",
    "\n",
    "import itertools\n",
    "\n",
    "def plot_confusion_matrix(cm, target_names=None, cmap=None, normalize=True, labels=True, title='Confusion matrix'):\n",
    "    accuracy = np.trace(cm) / float(np.sum(cm))\n",
    "    misclass = 1 - accuracy\n",
    "\n",
    "    if cmap is None:\n",
    "        cmap = plt.get_cmap('Blues')\n",
    "\n",
    "    if normalize:\n",
    "        cm = cm.astype('float') / cm.sum(axis=1)[:, np.newaxis]\n",
    "        \n",
    "    plt.figure(figsize=(8, 6))\n",
    "    plt.imshow(cm, interpolation='nearest', cmap=cmap)\n",
    "    plt.title(title)\n",
    "    plt.colorbar()\n",
    "\n",
    "    thresh = cm.max() / 1.5 if normalize else cm.max() / 2\n",
    "    \n",
    "    if target_names is not None:\n",
    "        tick_marks = np.arange(len(target_names))\n",
    "        plt.xticks(tick_marks, target_names)\n",
    "        plt.yticks(tick_marks, target_names)\n",
    "    \n",
    "    if labels:\n",
    "        for i, j in itertools.product(range(cm.shape[0]), range(cm.shape[1])):\n",
    "            if normalize:\n",
    "                plt.text(j, i, \"{:0.4f}\".format(cm[i, j]),\n",
    "                         horizontalalignment=\"center\",\n",
    "                         color=\"white\" if cm[i, j] > thresh else \"black\")\n",
    "            else:\n",
    "                plt.text(j, i, \"{:,}\".format(cm[i, j]),\n",
    "                         horizontalalignment=\"center\",\n",
    "                         color=\"white\" if cm[i, j] > thresh else \"black\")\n",
    "\n",
    "    plt.tight_layout()\n",
    "    plt.ylabel('True label')\n",
    "    plt.xlabel('Predicted label\\naccuracy={:0.4f}; misclass={:0.4f}'.format(accuracy, misclass))\n",
    "    plt.show()"
   ]
  },
  {
   "cell_type": "markdown",
   "metadata": {},
   "source": [
    "### Confusion Matrix"
   ]
  },
  {
   "cell_type": "code",
   "execution_count": 11,
   "metadata": {
    "scrolled": true
   },
   "outputs": [
    {
     "data": {
      "text/plain": [
       "<Figure size 432x288 with 0 Axes>"
      ]
     },
     "metadata": {},
     "output_type": "display_data"
    },
    {
     "data": {
      "image/png": "[encoded data removed]",
      "text/plain": [
       "<Figure size 576x432 with 2 Axes>"
      ]
     },
     "metadata": {
      "needs_background": "light"
     },
     "output_type": "display_data"
    },
    {
     "data": {
      "image/png": "[encoded data removed]",
      "text/plain": [
       "<Figure size 576x432 with 2 Axes>"
      ]
     },
     "metadata": {
      "needs_background": "light"
     },
     "output_type": "display_data"
    },
    {
     "name": "stdout",
     "output_type": "stream",
     "text": [
      "Accuracy Test (loss):  0.37037037037037035\n",
      "Accuracy Ext (loss):  0.43469591226321036\n"
     ]
    }
   ],
   "source": [
    "from sklearn import metrics\n",
    "from sklearn.metrics import confusion_matrix, accuracy_score, classification_report, balanced_accuracy_score\n",
    "\n",
    "\n",
    "\"\"\" one-hot decoding\"\"\"\n",
    "X_test_decode = np.argmax(soft_prob_test_array, axis=1)\n",
    "X_ext_decode = np.argmax(soft_prob_ext_array, axis=1)\n",
    "y_test_decode = np.argmax(y_test, axis=1)\n",
    "y_ext_decode = np.argmax(y_ext, axis=1)\n",
    "\n",
    "\n",
    "\"\"\" Confusion Matrix \"\"\"\n",
    "cnf_matrix_test = confusion_matrix(y_test_decode, X_test_decode)\n",
    "cnf_matrix_ext = confusion_matrix(y_ext_decode, X_ext_decode)\n",
    "\n",
    "np.set_printoptions(precision=2)\n",
    "plt.figure()\n",
    "\n",
    "\n",
    "plot_confusion_matrix(cnf_matrix_test, labels=['grade0', 'grade1', 'grade2', 'grade3'],  title='Atopy Grading (test) - ' + Evaluator_Test), 'micro'\n",
    "plot_confusion_matrix(cnf_matrix_ext, labels=['grade0', 'grade1', 'grade2', 'grade3'],  title='Atopy Grading (ext) - ' + Evaluator_Test), 'micro'\n",
    "\n",
    "\n",
    "acc_test = accuracy_score(y_test_decode, X_test_decode)\n",
    "acc_ext = accuracy_score(y_ext_decode, X_ext_decode)\n",
    "\n",
    "print(\"Accuracy Test : \", acc_test)\n",
    "print(\"Accuracy Ext : \", acc_ext)"
   ]
  },
  {
   "cell_type": "markdown",
   "metadata": {},
   "source": [
    "### Metrics"
   ]
  },
  {
   "cell_type": "code",
   "execution_count": 12,
   "metadata": {},
   "outputs": [],
   "source": [
    "from sklearn.metrics import precision_score, recall_score, f1_score \n",
    "\n",
    "\"\"\" Precision \"\"\"\n",
    "precision_macro_test = precision_score(y_test_decode, X_test_decode, average='macro')\n",
    "precision_macro_ext = precision_score(y_ext_decode, X_ext_decode, average='macro')\n",
    "\n",
    "\n",
    "\"\"\" Recall \"\"\"\n",
    "recall_macro_test = recall_score(y_test_decode, X_test_decode, average='macro')\n",
    "recall_macro_ext = recall_score(y_ext_decode, X_ext_decode, average='macro')\n",
    "\n",
    "\n",
    "\"\"\" F1-score \"\"\"\n",
    "F1_macro_test = f1_score(y_test_decode, X_test_decode, average='macro')\n",
    "F1_macro_ext = f1_score(y_ext_decode, X_ext_decode, average='macro')"
   ]
  },
  {
   "cell_type": "code",
   "execution_count": 13,
   "metadata": {},
   "outputs": [],
   "source": [
    "\"\"\" Test \"\"\"\n",
    "FP = cnf_matrix_test.sum(axis=0) - np.diag(cnf_matrix_test)  \n",
    "FN = cnf_matrix_test.sum(axis=1) - np.diag(cnf_matrix_test)\n",
    "TP = np.diag(cnf_matrix_test)\n",
    "TN = cnf_matrix_test.sum() - (FP + FN + TP)\n",
    "\n",
    "FP = FP.astype(float)\n",
    "FN = FN.astype(float)\n",
    "TP = TP.astype(float)\n",
    "TN = TN.astype(float)\n",
    "\n",
    "# Sensitivity, hit rate, recall, or true positive rate\n",
    "TPR_test = TP/(TP+FN)\n",
    "# Specificity or true negative rate\n",
    "TNR_test = TN/(TN+FP) \n",
    "\n",
    "\n",
    "\"\"\" Ext \"\"\"\n",
    "FP = cnf_matrix_ext.sum(axis=0) - np.diag(cnf_matrix_ext)  \n",
    "FN = cnf_matrix_ext.sum(axis=1) - np.diag(cnf_matrix_ext)\n",
    "TP = np.diag(cnf_matrix_ext)\n",
    "TN = cnf_matrix_ext.sum() - (FP + FN + TP)\n",
    "\n",
    "FP = FP.astype(float)\n",
    "FN = FN.astype(float)\n",
    "TP = TP.astype(float)\n",
    "TN = TN.astype(float)\n",
    "\n",
    "# Sensitivity, hit rate, recall, or true positive rate\n",
    "TPR_ext = TP/(TP+FN)\n",
    "# Specificity or true negative rate\n",
    "TNR_ext = TN/(TN+FP) "
   ]
  },
  {
   "cell_type": "markdown",
   "metadata": {},
   "source": [
    "### ROC - Test"
   ]
  },
  {
   "cell_type": "code",
   "execution_count": 14,
   "metadata": {},
   "outputs": [
    {
     "name": "stderr",
     "output_type": "stream",
     "text": [
      "/usr/local/lib/python3.6/dist-packages/ipykernel_launcher.py:32: DeprecationWarning: scipy.interp is deprecated and will be removed in SciPy 2.0.0, use numpy.interp instead\n"
     ]
    },
    {
     "data": {
      "image/png": "[encoded data removed]",
      "text/plain": [
       "<Figure size 504x504 with 1 Axes>"
      ]
     },
     "metadata": {
      "needs_background": "light"
     },
     "output_type": "display_data"
    }
   ],
   "source": [
    "from sklearn.metrics import roc_curve, auc\n",
    "from scipy import interp\n",
    "from itertools import cycle\n",
    "\n",
    "####################################\n",
    "pred = soft_prob_test_array\n",
    "####################################\n",
    "\n",
    "num_classes = 4\n",
    "fpr = dict()\n",
    "tpr = dict()\n",
    "roc_auc_test = dict()\n",
    "for i in range(num_classes):\n",
    "#     if i !=2:\n",
    "    fpr[i], tpr[i], _ = roc_curve(y_test[:, i], pred[:, i])\n",
    "    roc_auc_test[i] = auc(fpr[i], tpr[i])\n",
    "\n",
    "# Compute micro-average ROC curve and ROC area\n",
    "# fpr[\"micro\"], tpr[\"micro\"], _ = roc_curve(y_test.ravel(), pred.ravel())\n",
    "# roc_auc_test[\"micro\"] = auc(fpr[\"micro\"], tpr[\"micro\"])\n",
    "\n",
    "# Compute macro-average ROC curve and ROC area\n",
    "# First aggregate all false positive rates\n",
    "\n",
    "all_fpr = np.unique(np.concatenate([fpr[i] for i in range(num_classes)]))\n",
    "\n",
    "\n",
    "# Then interpolate all ROC curves at this points\n",
    "mean_tpr = np.zeros_like(all_fpr)\n",
    "for i in range(num_classes):\n",
    "#     if i !=2:\n",
    "    mean_tpr += interp(all_fpr, fpr[i], tpr[i])\n",
    "\n",
    "# Finally average it and compute AUC\n",
    "mean_tpr /= num_classes ##\n",
    "\n",
    "fpr[\"macro\"] = all_fpr\n",
    "tpr[\"macro\"] = mean_tpr\n",
    "roc_auc_test[\"macro\"] = auc(fpr[\"macro\"], tpr[\"macro\"])\n",
    "\n",
    "auc_std_test = round(np.std([roc_auc_test[0], roc_auc_test[1], roc_auc_test[2], roc_auc_test[3]]), 2)    \n",
    "# auc_std_test = round(np.std([roc_auc_test[0], roc_auc_test[1], roc_auc_test[3]]), 2)  \n",
    "\n",
    "# Plot all ROC curves\n",
    "plt.figure(figsize = [7,7])\n",
    "lw = 2\n",
    "# plt.plot(fpr[\"micro\"], tpr[\"micro\"],\n",
    "#          label='micro-average ROC curve (area = {0:0.2f})'\n",
    "#                ''.format(roc_auc_test[\"micro\"]),\n",
    "#          color='deeppink', linestyle=':', linewidth=4)\n",
    "\n",
    "plt.plot(fpr[\"macro\"], tpr[\"macro\"],\n",
    "         label='macro-average ROC curve (area = {0:0.2f} \\u00B1 {1:0.3f})'\n",
    "               ''.format(roc_auc_test[\"macro\"], auc_std_test),\n",
    "         color='navy', linestyle=':', linewidth=4)\n",
    "\n",
    "colors = cycle(['aqua', 'darkorange', 'cornflowerblue', 'deeppink'])\n",
    "for i, color in zip(range(num_classes), colors):\n",
    "#     if i !=2:\n",
    "    plt.plot(fpr[i], tpr[i], color=color, lw=lw,\n",
    "             label='ROC curve of Grade {0} (area = {1:0.2f})'\n",
    "             ''.format(i, roc_auc_test[i]))\n",
    "\n",
    "\n",
    "plt.plot([0, 1], [0, 1], 'k--', lw=lw)\n",
    "plt.xlim([0.0, 1.0])\n",
    "plt.ylim([0.0, 1.05])\n",
    "plt.xlabel('False Positive Rate')\n",
    "plt.ylabel('True Positive Rate')\n",
    "plt.title('Atopy Grading ROC curve (Grade 0-3) - ' + Evaluator_Test)\n",
    "plt.legend(loc=\"lower right\")\n",
    "plt.show()"
   ]
  },
  {
   "cell_type": "markdown",
   "metadata": {},
   "source": [
    "### ROC - Ext"
   ]
  },
  {
   "cell_type": "code",
   "execution_count": 15,
   "metadata": {},
   "outputs": [
    {
     "name": "stderr",
     "output_type": "stream",
     "text": [
      "/usr/local/lib/python3.6/dist-packages/ipykernel_launcher.py:32: DeprecationWarning: scipy.interp is deprecated and will be removed in SciPy 2.0.0, use numpy.interp instead\n"
     ]
    },
    {
     "data": {
      "image/png": "[encoded data removed]",
      "text/plain": [
       "<Figure size 504x504 with 1 Axes>"
      ]
     },
     "metadata": {
      "needs_background": "light"
     },
     "output_type": "display_data"
    }
   ],
   "source": [
    "from sklearn.metrics import roc_curve, auc\n",
    "from scipy import interp\n",
    "from itertools import cycle\n",
    "\n",
    "####################################\n",
    "pred = soft_prob_ext_array\n",
    "####################################\n",
    "\n",
    "    \n",
    "num_classes = 4\n",
    "fpr = dict()\n",
    "tpr = dict()\n",
    "roc_auc_ext = dict()\n",
    "for i in range(num_classes):\n",
    "    fpr[i], tpr[i], _ = roc_curve(y_ext[:, i], pred[:, i])\n",
    "    roc_auc_ext[i] = auc(fpr[i], tpr[i])\n",
    "\n",
    "\n",
    "# Compute micro-average ROC curve and ROC area\n",
    "fpr[\"micro\"], tpr[\"micro\"], _ = roc_curve(y_ext.ravel(), pred.ravel())\n",
    "roc_auc_ext[\"micro\"] = auc(fpr[\"micro\"], tpr[\"micro\"])\n",
    "\n",
    "\n",
    "# Compute macro-average ROC curve and ROC area\n",
    "# First aggregate all false positive rates\n",
    "all_fpr = np.unique(np.concatenate([fpr[i] for i in range(num_classes)]))\n",
    "\n",
    "\n",
    "# Then interpolate all ROC curves at this points\n",
    "mean_tpr = np.zeros_like(all_fpr)\n",
    "for i in range(num_classes):\n",
    "    mean_tpr += interp(all_fpr, fpr[i], tpr[i])\n",
    "\n",
    "# Finally average it and compute AUC\n",
    "mean_tpr /= num_classes\n",
    "\n",
    "fpr[\"macro\"] = all_fpr\n",
    "tpr[\"macro\"] = mean_tpr\n",
    "roc_auc_ext[\"macro\"] = auc(fpr[\"macro\"], tpr[\"macro\"])\n",
    "\n",
    "auc_std_ext = round(np.std([roc_auc_ext[0], roc_auc_ext[1], roc_auc_ext[2], roc_auc_ext[3]]), 2)\n",
    "\n",
    "# Plot all ROC curves\n",
    "plt.figure(figsize = [7,7])\n",
    "lw = 2\n",
    "# plt.plot(fpr[\"micro\"], tpr[\"micro\"],\n",
    "#          label='micro-average ROC curve (area = {0:0.2f})'\n",
    "#                ''.format(roc_auc_ext[\"micro\"]),\n",
    "#          color='deeppink', linestyle=':', linewidth=4)\n",
    "\n",
    "plt.plot(fpr[\"macro\"], tpr[\"macro\"],\n",
    "         label='macro-average ROC curve (area = {0:0.2f} \\u00B1 {1:0.3f})'\n",
    "               ''.format(roc_auc_ext[\"macro\"], auc_std_ext),\n",
    "         color='navy', linestyle=':', linewidth=4)\n",
    "\n",
    "colors = cycle(['aqua', 'darkorange', 'cornflowerblue', 'deeppink'])\n",
    "for i, color in zip(range(num_classes), colors):\n",
    "#     if i !=2:\n",
    "    plt.plot(fpr[i], tpr[i], color=color, lw=lw,\n",
    "             label='ROC curve of Grade {0} (area = {1:0.2f})'\n",
    "             ''.format(i, roc_auc_ext[i]))\n",
    "\n",
    "\n",
    "\n",
    "plt.plot([0, 1], [0, 1], 'k--', lw=lw)\n",
    "plt.xlim([0.0, 1.0])\n",
    "plt.ylim([0.0, 1.05])\n",
    "plt.xlabel('False Positive Rate')\n",
    "plt.ylabel('True Positive Rate')\n",
    "plt.title('Atopy Grading ROC curve (Grade 0-3 / acc) - ' + Evaluator_Test)\n",
    "plt.legend(loc=\"lower right\")\n",
    "plt.show()"
   ]
  },
  {
   "cell_type": "markdown",
   "metadata": {},
   "source": [
    "## Total Metrics"
   ]
  },
  {
   "cell_type": "markdown",
   "metadata": {},
   "source": [
    "### Test"
   ]
  },
  {
   "cell_type": "code",
   "execution_count": 18,
   "metadata": {},
   "outputs": [
    {
     "name": "stdout",
     "output_type": "stream",
     "text": [
      "*** Loss ***\n",
      "AUC (macro), Accuracy, Sensitivity, Specificity, F1(macro)\n",
      "0.899 +-0.04 0.786 0.778 0.919 0.755\n"
     ]
    }
   ],
   "source": [
    "print(\"AUC (macro), Accuracy, Sensitivity, Specificity, F1(macro)\")\n",
    "print(round(roc_auc_test[\"macro\"],3), '+-' + str(auc_std_test), round(acc_test, 3), round(np.average(TPR_test),3), round(np.average(TNR_test),3), round(F1_macro_test, 3))"
   ]
  },
  {
   "cell_type": "markdown",
   "metadata": {},
   "source": [
    "### Ext"
   ]
  },
  {
   "cell_type": "code",
   "execution_count": 19,
   "metadata": {},
   "outputs": [
    {
     "name": "stdout",
     "output_type": "stream",
     "text": [
      "*** Loss ***\n",
      "AUC (macro), Accuracy, Sensitivity, Specificity, F1(macro)\n",
      "0.927 +-0.07 0.714 0.81 0.895 0.699\n"
     ]
    }
   ],
   "source": [
    "print(\"AUC (macro), Accuracy, Sensitivity, Specificity, F1(macro)\")\n",
    "print(round(roc_auc_ext[\"macro\"],3), '+-' + str(auc_std_ext), round(acc_ext, 3),  round(np.average(TPR_ext),3), round(np.average(TNR_ext),3), round(F1_macro_ext, 3))"
   ]
  }
 ],
 "metadata": {
  "kernelspec": {
   "display_name": "Python 3 (ipykernel)",
   "language": "python",
   "name": "python3"
  },
  "language_info": {
   "codemirror_mode": {
    "name": "ipython",
    "version": 3
   },
   "file_extension": ".py",
   "mimetype": "text/x-python",
   "name": "python",
   "nbconvert_exporter": "python",
   "pygments_lexer": "ipython3",
   "version": "3.9.7"
  },
  "varInspector": {
   "cols": {
    "lenName": 16,
    "lenType": 16,
    "lenVar": 40
   },
   "kernels_config": {
    "python": {
     "delete_cmd_postfix": "",
     "delete_cmd_prefix": "del ",
     "library": "var_list.py",
     "varRefreshCmd": "print(var_dic_list())"
    },
    "r": {
     "delete_cmd_postfix": ") ",
     "delete_cmd_prefix": "rm(",
     "library": "var_list.r",
     "varRefreshCmd": "cat(var_dic_list()) "
    }
   },
   "types_to_exclude": [
    "module",
    "function",
    "builtin_function_or_method",
    "instance",
    "_Feature"
   ],
   "window_display": false
  }
 },
 "nbformat": 4,
 "nbformat_minor": 4
}
